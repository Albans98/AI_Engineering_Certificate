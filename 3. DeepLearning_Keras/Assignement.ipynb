{
  "nbformat": 4,
  "nbformat_minor": 0,
  "metadata": {
    "kernelspec": {
      "display_name": "Python",
      "language": "python",
      "name": "conda-env-python-py"
    },
    "language_info": {
      "codemirror_mode": {
        "name": "ipython",
        "version": 3
      },
      "file_extension": ".py",
      "mimetype": "text/x-python",
      "name": "python",
      "nbconvert_exporter": "python",
      "pygments_lexer": "ipython3",
      "version": "3.6.10"
    },
    "colab": {
      "name": "Assignement.ipynb",
      "provenance": []
    }
  },
  "cells": [
    {
      "cell_type": "markdown",
      "metadata": {
        "id": "duBTXCoKgy68",
        "colab_type": "text"
      },
      "source": [
        "# Regression Model in Keras\n",
        "\n",
        "## Part A\n",
        "\n",
        "A. Build a baseline model (5 marks)\n",
        "\n",
        "Use the Keras library to build a neural network with the following:\n",
        "\n",
        "- One hidden layer of 10 nodes, and a ReLU activation function\n",
        "\n",
        "- Use the adam optimizer and the mean squared error as the loss function.\n",
        "\n",
        "1. Randomly split the data into a training and test sets by holding 30% of the data for testing. You can use the train_test_splithelper function from Scikit-learn.\n",
        "\n",
        "2. Train the model on the training data using 50 epochs.\n",
        "\n",
        "3. Evaluate the model on the test data and compute the mean squared error between the predicted concrete strength and the actual concrete strength. You can use the mean_squared_error function from Scikit-learn.\n",
        "\n",
        "4. Repeat steps 1 - 3, 50 times, i.e., create a list of 50 mean squared errors.\n",
        "\n",
        "5. Report the mean and the standard deviation of the mean squared errors."
      ]
    },
    {
      "cell_type": "code",
      "metadata": {
        "id": "shFt3jBSgy6_",
        "colab_type": "code",
        "colab": {}
      },
      "source": [
        "import pandas as pd\n",
        "import numpy as np"
      ],
      "execution_count": 0,
      "outputs": []
    },
    {
      "cell_type": "code",
      "metadata": {
        "id": "yhIbUD5Lgy7J",
        "colab_type": "code",
        "colab": {
          "base_uri": "https://localhost:8080/",
          "height": 195
        },
        "outputId": "7adc5b94-ca6a-4d0e-c417-f054f50dab0a"
      },
      "source": [
        "df = pd.read_csv('https://s3-api.us-geo.objectstorage.softlayer.net/cf-courses-data/CognitiveClass/DL0101EN/labs/data/concrete_data.csv')\n",
        "df.head()"
      ],
      "execution_count": 2,
      "outputs": [
        {
          "output_type": "execute_result",
          "data": {
            "text/html": [
              "<div>\n",
              "<style scoped>\n",
              "    .dataframe tbody tr th:only-of-type {\n",
              "        vertical-align: middle;\n",
              "    }\n",
              "\n",
              "    .dataframe tbody tr th {\n",
              "        vertical-align: top;\n",
              "    }\n",
              "\n",
              "    .dataframe thead th {\n",
              "        text-align: right;\n",
              "    }\n",
              "</style>\n",
              "<table border=\"1\" class=\"dataframe\">\n",
              "  <thead>\n",
              "    <tr style=\"text-align: right;\">\n",
              "      <th></th>\n",
              "      <th>Cement</th>\n",
              "      <th>Blast Furnace Slag</th>\n",
              "      <th>Fly Ash</th>\n",
              "      <th>Water</th>\n",
              "      <th>Superplasticizer</th>\n",
              "      <th>Coarse Aggregate</th>\n",
              "      <th>Fine Aggregate</th>\n",
              "      <th>Age</th>\n",
              "      <th>Strength</th>\n",
              "    </tr>\n",
              "  </thead>\n",
              "  <tbody>\n",
              "    <tr>\n",
              "      <th>0</th>\n",
              "      <td>540.0</td>\n",
              "      <td>0.0</td>\n",
              "      <td>0.0</td>\n",
              "      <td>162.0</td>\n",
              "      <td>2.5</td>\n",
              "      <td>1040.0</td>\n",
              "      <td>676.0</td>\n",
              "      <td>28</td>\n",
              "      <td>79.99</td>\n",
              "    </tr>\n",
              "    <tr>\n",
              "      <th>1</th>\n",
              "      <td>540.0</td>\n",
              "      <td>0.0</td>\n",
              "      <td>0.0</td>\n",
              "      <td>162.0</td>\n",
              "      <td>2.5</td>\n",
              "      <td>1055.0</td>\n",
              "      <td>676.0</td>\n",
              "      <td>28</td>\n",
              "      <td>61.89</td>\n",
              "    </tr>\n",
              "    <tr>\n",
              "      <th>2</th>\n",
              "      <td>332.5</td>\n",
              "      <td>142.5</td>\n",
              "      <td>0.0</td>\n",
              "      <td>228.0</td>\n",
              "      <td>0.0</td>\n",
              "      <td>932.0</td>\n",
              "      <td>594.0</td>\n",
              "      <td>270</td>\n",
              "      <td>40.27</td>\n",
              "    </tr>\n",
              "    <tr>\n",
              "      <th>3</th>\n",
              "      <td>332.5</td>\n",
              "      <td>142.5</td>\n",
              "      <td>0.0</td>\n",
              "      <td>228.0</td>\n",
              "      <td>0.0</td>\n",
              "      <td>932.0</td>\n",
              "      <td>594.0</td>\n",
              "      <td>365</td>\n",
              "      <td>41.05</td>\n",
              "    </tr>\n",
              "    <tr>\n",
              "      <th>4</th>\n",
              "      <td>198.6</td>\n",
              "      <td>132.4</td>\n",
              "      <td>0.0</td>\n",
              "      <td>192.0</td>\n",
              "      <td>0.0</td>\n",
              "      <td>978.4</td>\n",
              "      <td>825.5</td>\n",
              "      <td>360</td>\n",
              "      <td>44.30</td>\n",
              "    </tr>\n",
              "  </tbody>\n",
              "</table>\n",
              "</div>"
            ],
            "text/plain": [
              "   Cement  Blast Furnace Slag  Fly Ash  ...  Fine Aggregate  Age  Strength\n",
              "0   540.0                 0.0      0.0  ...           676.0   28     79.99\n",
              "1   540.0                 0.0      0.0  ...           676.0   28     61.89\n",
              "2   332.5               142.5      0.0  ...           594.0  270     40.27\n",
              "3   332.5               142.5      0.0  ...           594.0  365     41.05\n",
              "4   198.6               132.4      0.0  ...           825.5  360     44.30\n",
              "\n",
              "[5 rows x 9 columns]"
            ]
          },
          "metadata": {
            "tags": []
          },
          "execution_count": 2
        }
      ]
    },
    {
      "cell_type": "code",
      "metadata": {
        "id": "Ear9WrKugy7T",
        "colab_type": "code",
        "colab": {
          "base_uri": "https://localhost:8080/",
          "height": 34
        },
        "outputId": "4bf77e3b-1163-4e1b-b4bb-068a29be3c2b"
      },
      "source": [
        "df.shape"
      ],
      "execution_count": 3,
      "outputs": [
        {
          "output_type": "execute_result",
          "data": {
            "text/plain": [
              "(1030, 9)"
            ]
          },
          "metadata": {
            "tags": []
          },
          "execution_count": 3
        }
      ]
    },
    {
      "cell_type": "code",
      "metadata": {
        "id": "Xzu3lQc9gy7a",
        "colab_type": "code",
        "colab": {}
      },
      "source": [
        "columns = df.columns\n",
        "X = df[columns[columns != 'Strength']] # all columns except Strength\n",
        "y = df['Strength'] # Strength column"
      ],
      "execution_count": 0,
      "outputs": []
    },
    {
      "cell_type": "code",
      "metadata": {
        "id": "w_SWyCq8gy7h",
        "colab_type": "code",
        "colab": {
          "base_uri": "https://localhost:8080/",
          "height": 1000
        },
        "outputId": "fceca543-1f8b-47b4-a945-ae1d5259ee33"
      },
      "source": [
        "from sklearn.model_selection import train_test_split\n",
        "from sklearn.metrics import mean_squared_error\n",
        "from keras.models import Sequential\n",
        "from keras.layers import Dense\n",
        "\n",
        "MSE = []\n",
        "\n",
        "for i in range(50):\n",
        "    X_train, X_test, y_train, y_test = train_test_split(X, y, test_size = 0.30, random_state = 1)\n",
        "    n_cols = X_train.shape[1]\n",
        "    model = Sequential()\n",
        "    model.add(Dense(10, activation = 'relu', input_shape = (n_cols,)))\n",
        "    model.add(Dense(1))\n",
        "\n",
        "    # compile model\n",
        "    model.compile(optimizer = 'adam', loss = 'mean_squared_error')\n",
        "    model.fit(X_train, y_train, validation_data = (X_test, y_test), epochs = 50, verbose = 0)\n",
        "    \n",
        "    scores = model.evaluate(X_test, y_test, verbose = 0)\n",
        "    print('Iteration {} evaluation : {}'.format(i + 1, scores))\n",
        "    \n",
        "    pred = model.predict(X)\n",
        "    mse = mean_squared_error(y, pred)\n",
        "    print('Iteration {} MSE : {}'.format(i + 1, scores))\n",
        "    MSE.append(mse)"
      ],
      "execution_count": 18,
      "outputs": [
        {
          "output_type": "stream",
          "text": [
            "Iteration 1 evaluation : 140.56242923674847\n",
            "Iteration 1 MSE : 140.56242923674847\n",
            "Iteration 2 evaluation : 120.3386398364811\n",
            "Iteration 2 MSE : 120.3386398364811\n",
            "Iteration 3 evaluation : 974.9368955741809\n",
            "Iteration 3 MSE : 974.9368955741809\n",
            "Iteration 4 evaluation : 123.59934538313486\n",
            "Iteration 4 MSE : 123.59934538313486\n",
            "Iteration 5 evaluation : 96.94179028754867\n",
            "Iteration 5 MSE : 96.94179028754867\n",
            "Iteration 6 evaluation : 159.67372230110044\n",
            "Iteration 6 MSE : 159.67372230110044\n",
            "Iteration 7 evaluation : 380.9112148840451\n",
            "Iteration 7 MSE : 380.9112148840451\n",
            "Iteration 8 evaluation : 1526.2388872560175\n",
            "Iteration 8 MSE : 1526.2388872560175\n",
            "Iteration 9 evaluation : 296.8929666562374\n",
            "Iteration 9 MSE : 296.8929666562374\n",
            "Iteration 10 evaluation : 1529.989217912495\n",
            "Iteration 10 MSE : 1529.989217912495\n",
            "Iteration 11 evaluation : 121.89282154959768\n",
            "Iteration 11 MSE : 121.89282154959768\n",
            "Iteration 12 evaluation : 223.39409368323663\n",
            "Iteration 12 MSE : 223.39409368323663\n",
            "Iteration 13 evaluation : 200.2544174441242\n",
            "Iteration 13 MSE : 200.2544174441242\n",
            "Iteration 14 evaluation : 162.37353481058165\n",
            "Iteration 14 MSE : 162.37353481058165\n",
            "Iteration 15 evaluation : 122.69207252576513\n",
            "Iteration 15 MSE : 122.69207252576513\n",
            "Iteration 16 evaluation : 716.7466825713617\n",
            "Iteration 16 MSE : 716.7466825713617\n",
            "Iteration 17 evaluation : 342.7813159732757\n",
            "Iteration 17 MSE : 342.7813159732757\n",
            "Iteration 18 evaluation : 174.86873520539416\n",
            "Iteration 18 MSE : 174.86873520539416\n",
            "Iteration 19 evaluation : 190.18505187790757\n",
            "Iteration 19 MSE : 190.18505187790757\n",
            "Iteration 20 evaluation : 231.8212372122459\n",
            "Iteration 20 MSE : 231.8212372122459\n",
            "Iteration 21 evaluation : 916.6133112737662\n",
            "Iteration 21 MSE : 916.6133112737662\n",
            "Iteration 22 evaluation : 95.01611034306893\n",
            "Iteration 22 MSE : 95.01611034306893\n",
            "Iteration 23 evaluation : 870.5647361780061\n",
            "Iteration 23 MSE : 870.5647361780061\n",
            "Iteration 24 evaluation : 246.583322074421\n",
            "Iteration 24 MSE : 246.583322074421\n",
            "Iteration 25 evaluation : 193.1818899506504\n",
            "Iteration 25 MSE : 193.1818899506504\n",
            "Iteration 26 evaluation : 171.18757338045484\n",
            "Iteration 26 MSE : 171.18757338045484\n",
            "Iteration 27 evaluation : 2165.341640435376\n",
            "Iteration 27 MSE : 2165.341640435376\n",
            "Iteration 28 evaluation : 288.20094412893155\n",
            "Iteration 28 MSE : 288.20094412893155\n",
            "Iteration 29 evaluation : 176.1250432332357\n",
            "Iteration 29 MSE : 176.1250432332357\n",
            "Iteration 30 evaluation : 251.58237928865796\n",
            "Iteration 30 MSE : 251.58237928865796\n",
            "Iteration 31 evaluation : 197.97401285017193\n",
            "Iteration 31 MSE : 197.97401285017193\n",
            "Iteration 32 evaluation : 389.5366712156623\n",
            "Iteration 32 MSE : 389.5366712156623\n",
            "Iteration 33 evaluation : 127.19644142817525\n",
            "Iteration 33 MSE : 127.19644142817525\n",
            "Iteration 34 evaluation : 136.01189859630992\n",
            "Iteration 34 MSE : 136.01189859630992\n",
            "Iteration 35 evaluation : 160.97094761129335\n",
            "Iteration 35 MSE : 160.97094761129335\n",
            "Iteration 36 evaluation : 139.16807570966702\n",
            "Iteration 36 MSE : 139.16807570966702\n",
            "Iteration 37 evaluation : 447.13784148083533\n",
            "Iteration 37 MSE : 447.13784148083533\n",
            "Iteration 38 evaluation : 376.22213152542855\n",
            "Iteration 38 MSE : 376.22213152542855\n",
            "Iteration 39 evaluation : 244.97166763848858\n",
            "Iteration 39 MSE : 244.97166763848858\n",
            "Iteration 40 evaluation : 273.9667390002402\n",
            "Iteration 40 MSE : 273.9667390002402\n",
            "Iteration 41 evaluation : 162.5910318121555\n",
            "Iteration 41 MSE : 162.5910318121555\n",
            "Iteration 42 evaluation : 420.2270271770391\n",
            "Iteration 42 MSE : 420.2270271770391\n",
            "Iteration 43 evaluation : 99.8455151801742\n",
            "Iteration 43 MSE : 99.8455151801742\n",
            "Iteration 44 evaluation : 213.11695175417805\n",
            "Iteration 44 MSE : 213.11695175417805\n",
            "Iteration 45 evaluation : 125.94175527628185\n",
            "Iteration 45 MSE : 125.94175527628185\n",
            "Iteration 46 evaluation : 120.50565636890991\n",
            "Iteration 46 MSE : 120.50565636890991\n",
            "Iteration 47 evaluation : 161.4626606073966\n",
            "Iteration 47 MSE : 161.4626606073966\n",
            "Iteration 48 evaluation : 142.7408430969831\n",
            "Iteration 48 MSE : 142.7408430969831\n",
            "Iteration 49 evaluation : 108.50365489972062\n",
            "Iteration 49 MSE : 108.50365489972062\n",
            "Iteration 50 evaluation : 101.25764282621613\n",
            "Iteration 50 MSE : 101.25764282621613\n"
          ],
          "name": "stdout"
        }
      ]
    },
    {
      "cell_type": "code",
      "metadata": {
        "id": "duZUcEq2gy7o",
        "colab_type": "code",
        "colab": {
          "base_uri": "https://localhost:8080/",
          "height": 50
        },
        "outputId": "ad03fc11-17e6-48e3-dc16-3dc482e367ee"
      },
      "source": [
        "MSE = np.array(MSE)\n",
        "\n",
        "mean_stepA = MSE.mean()\n",
        "std_step_A = MSE.std()\n",
        "print(mean_stepA)\n",
        "print(std_step_A)"
      ],
      "execution_count": 25,
      "outputs": [
        {
          "output_type": "stream",
          "text": [
            "336.1609105416868\n",
            "397.909409251028\n"
          ],
          "name": "stdout"
        }
      ]
    },
    {
      "cell_type": "markdown",
      "metadata": {
        "id": "Sw2LDO1lnH8N",
        "colab_type": "text"
      },
      "source": [
        "## Part B\n",
        "\n",
        "B. Normalize the data (5 marks)\n",
        "\n",
        "Repeat Part A but use a normalized version of the data. Recall that one way to normalize the data is by subtracting the mean from the individual predictors and dividing by the standard deviation.\n",
        "\n",
        "How does the mean of the mean squared errors compare to that from Step A?"
      ]
    },
    {
      "cell_type": "code",
      "metadata": {
        "id": "-qcCVeUIhmAO",
        "colab_type": "code",
        "colab": {
          "base_uri": "https://localhost:8080/",
          "height": 195
        },
        "outputId": "0081b662-5803-4899-d0fa-605098a62bee"
      },
      "source": [
        "X_norm = (X - X.mean()) / X.std()\n",
        "X_norm.head()"
      ],
      "execution_count": 8,
      "outputs": [
        {
          "output_type": "execute_result",
          "data": {
            "text/html": [
              "<div>\n",
              "<style scoped>\n",
              "    .dataframe tbody tr th:only-of-type {\n",
              "        vertical-align: middle;\n",
              "    }\n",
              "\n",
              "    .dataframe tbody tr th {\n",
              "        vertical-align: top;\n",
              "    }\n",
              "\n",
              "    .dataframe thead th {\n",
              "        text-align: right;\n",
              "    }\n",
              "</style>\n",
              "<table border=\"1\" class=\"dataframe\">\n",
              "  <thead>\n",
              "    <tr style=\"text-align: right;\">\n",
              "      <th></th>\n",
              "      <th>Cement</th>\n",
              "      <th>Blast Furnace Slag</th>\n",
              "      <th>Fly Ash</th>\n",
              "      <th>Water</th>\n",
              "      <th>Superplasticizer</th>\n",
              "      <th>Coarse Aggregate</th>\n",
              "      <th>Fine Aggregate</th>\n",
              "      <th>Age</th>\n",
              "    </tr>\n",
              "  </thead>\n",
              "  <tbody>\n",
              "    <tr>\n",
              "      <th>0</th>\n",
              "      <td>2.476712</td>\n",
              "      <td>-0.856472</td>\n",
              "      <td>-0.846733</td>\n",
              "      <td>-0.916319</td>\n",
              "      <td>-0.620147</td>\n",
              "      <td>0.862735</td>\n",
              "      <td>-1.217079</td>\n",
              "      <td>-0.279597</td>\n",
              "    </tr>\n",
              "    <tr>\n",
              "      <th>1</th>\n",
              "      <td>2.476712</td>\n",
              "      <td>-0.856472</td>\n",
              "      <td>-0.846733</td>\n",
              "      <td>-0.916319</td>\n",
              "      <td>-0.620147</td>\n",
              "      <td>1.055651</td>\n",
              "      <td>-1.217079</td>\n",
              "      <td>-0.279597</td>\n",
              "    </tr>\n",
              "    <tr>\n",
              "      <th>2</th>\n",
              "      <td>0.491187</td>\n",
              "      <td>0.795140</td>\n",
              "      <td>-0.846733</td>\n",
              "      <td>2.174405</td>\n",
              "      <td>-1.038638</td>\n",
              "      <td>-0.526262</td>\n",
              "      <td>-2.239829</td>\n",
              "      <td>3.551340</td>\n",
              "    </tr>\n",
              "    <tr>\n",
              "      <th>3</th>\n",
              "      <td>0.491187</td>\n",
              "      <td>0.795140</td>\n",
              "      <td>-0.846733</td>\n",
              "      <td>2.174405</td>\n",
              "      <td>-1.038638</td>\n",
              "      <td>-0.526262</td>\n",
              "      <td>-2.239829</td>\n",
              "      <td>5.055221</td>\n",
              "    </tr>\n",
              "    <tr>\n",
              "      <th>4</th>\n",
              "      <td>-0.790075</td>\n",
              "      <td>0.678079</td>\n",
              "      <td>-0.846733</td>\n",
              "      <td>0.488555</td>\n",
              "      <td>-1.038638</td>\n",
              "      <td>0.070492</td>\n",
              "      <td>0.647569</td>\n",
              "      <td>4.976069</td>\n",
              "    </tr>\n",
              "  </tbody>\n",
              "</table>\n",
              "</div>"
            ],
            "text/plain": [
              "     Cement  Blast Furnace Slag  ...  Fine Aggregate       Age\n",
              "0  2.476712           -0.856472  ...       -1.217079 -0.279597\n",
              "1  2.476712           -0.856472  ...       -1.217079 -0.279597\n",
              "2  0.491187            0.795140  ...       -2.239829  3.551340\n",
              "3  0.491187            0.795140  ...       -2.239829  5.055221\n",
              "4 -0.790075            0.678079  ...        0.647569  4.976069\n",
              "\n",
              "[5 rows x 8 columns]"
            ]
          },
          "metadata": {
            "tags": []
          },
          "execution_count": 8
        }
      ]
    },
    {
      "cell_type": "code",
      "metadata": {
        "id": "cyMYIKaaiIm6",
        "colab_type": "code",
        "colab": {
          "base_uri": "https://localhost:8080/",
          "height": 1000
        },
        "outputId": "bc73fdd4-9f40-46fc-9797-1ebba90d2cbd"
      },
      "source": [
        "MSE = []\n",
        "\n",
        "for i in range(50):\n",
        "    X_train, X_test, y_train, y_test = train_test_split(X_norm, y, test_size = 0.30, random_state = 1)\n",
        "    n_cols = X_train.shape[1]\n",
        "    model = Sequential()\n",
        "    model.add(Dense(10, activation = 'relu', input_shape = (n_cols,)))\n",
        "    model.add(Dense(1))\n",
        "\n",
        "    # compile model\n",
        "    model.compile(optimizer = 'adam', loss = 'mean_squared_error')\n",
        "    model.fit(X_train, y_train, validation_data = (X_test, y_test), epochs = 50, verbose = 0)\n",
        "    \n",
        "    scores = model.evaluate(X_test, y_test, verbose = 0)\n",
        "    print('Iteration {} evaluation : {}'.format(i + 1, scores))\n",
        "    \n",
        "    pred = model.predict(X_norm)\n",
        "    mse = mean_squared_error(y, pred)\n",
        "    print('Iteration {} MSE : {}'.format(i + 1, scores))\n",
        "    MSE.append(mse)"
      ],
      "execution_count": 20,
      "outputs": [
        {
          "output_type": "stream",
          "text": [
            "Iteration 1 evaluation : 481.04590475829286\n",
            "Iteration 1 MSE : 481.04590475829286\n",
            "Iteration 2 evaluation : 285.61921291906856\n",
            "Iteration 2 MSE : 285.61921291906856\n",
            "Iteration 3 evaluation : 290.1271908460697\n",
            "Iteration 3 MSE : 290.1271908460697\n",
            "Iteration 4 evaluation : 446.0973953197689\n",
            "Iteration 4 MSE : 446.0973953197689\n",
            "Iteration 5 evaluation : 282.2130398549694\n",
            "Iteration 5 MSE : 282.2130398549694\n",
            "Iteration 6 evaluation : 684.2799048562651\n",
            "Iteration 6 MSE : 684.2799048562651\n",
            "Iteration 7 evaluation : 295.82480757136176\n",
            "Iteration 7 MSE : 295.82480757136176\n",
            "Iteration 8 evaluation : 384.39704929586367\n",
            "Iteration 8 MSE : 384.39704929586367\n",
            "Iteration 9 evaluation : 353.3376802611119\n",
            "Iteration 9 MSE : 353.3376802611119\n",
            "Iteration 10 evaluation : 284.5420151003742\n",
            "Iteration 10 MSE : 284.5420151003742\n",
            "Iteration 11 evaluation : 346.15242177228714\n",
            "Iteration 11 MSE : 346.15242177228714\n",
            "Iteration 12 evaluation : 353.8192261137237\n",
            "Iteration 12 MSE : 353.8192261137237\n",
            "Iteration 13 evaluation : 330.9945394275258\n",
            "Iteration 13 MSE : 330.9945394275258\n",
            "Iteration 14 evaluation : 316.6537207939864\n",
            "Iteration 14 MSE : 316.6537207939864\n",
            "Iteration 15 evaluation : 347.17662112535396\n",
            "Iteration 15 MSE : 347.17662112535396\n",
            "Iteration 16 evaluation : 407.34195035175213\n",
            "Iteration 16 MSE : 407.34195035175213\n",
            "Iteration 17 evaluation : 427.8461692834749\n",
            "Iteration 17 MSE : 427.8461692834749\n",
            "Iteration 18 evaluation : 313.41807719110284\n",
            "Iteration 18 MSE : 313.41807719110284\n",
            "Iteration 19 evaluation : 318.4717349944377\n",
            "Iteration 19 MSE : 318.4717349944377\n",
            "Iteration 20 evaluation : 317.84563912697206\n",
            "Iteration 20 MSE : 317.84563912697206\n",
            "Iteration 21 evaluation : 292.50202057971154\n",
            "Iteration 21 MSE : 292.50202057971154\n",
            "Iteration 22 evaluation : 398.14756661325595\n",
            "Iteration 22 MSE : 398.14756661325595\n",
            "Iteration 23 evaluation : 449.97217547469154\n",
            "Iteration 23 MSE : 449.97217547469154\n",
            "Iteration 24 evaluation : 341.941700956968\n",
            "Iteration 24 MSE : 341.941700956968\n",
            "Iteration 25 evaluation : 312.9041396452771\n",
            "Iteration 25 MSE : 312.9041396452771\n",
            "Iteration 26 evaluation : 248.75084461594864\n",
            "Iteration 26 MSE : 248.75084461594864\n",
            "Iteration 27 evaluation : 299.731548716721\n",
            "Iteration 27 MSE : 299.731548716721\n",
            "Iteration 28 evaluation : 284.06094676391206\n",
            "Iteration 28 MSE : 284.06094676391206\n",
            "Iteration 29 evaluation : 411.1943194441811\n",
            "Iteration 29 MSE : 411.1943194441811\n",
            "Iteration 30 evaluation : 392.7538861024727\n",
            "Iteration 30 MSE : 392.7538861024727\n",
            "Iteration 31 evaluation : 372.56797439920865\n",
            "Iteration 31 MSE : 372.56797439920865\n",
            "Iteration 32 evaluation : 323.4412114905694\n",
            "Iteration 32 MSE : 323.4412114905694\n",
            "Iteration 33 evaluation : 402.69704894031906\n",
            "Iteration 33 MSE : 402.69704894031906\n",
            "Iteration 34 evaluation : 288.4452071205312\n",
            "Iteration 34 MSE : 288.4452071205312\n",
            "Iteration 35 evaluation : 299.4850712748407\n",
            "Iteration 35 MSE : 299.4850712748407\n",
            "Iteration 36 evaluation : 363.56358243578075\n",
            "Iteration 36 MSE : 363.56358243578075\n",
            "Iteration 37 evaluation : 315.9213348684959\n",
            "Iteration 37 MSE : 315.9213348684959\n",
            "Iteration 38 evaluation : 332.536227821918\n",
            "Iteration 38 MSE : 332.536227821918\n",
            "Iteration 39 evaluation : 319.19927721733416\n",
            "Iteration 39 MSE : 319.19927721733416\n",
            "Iteration 40 evaluation : 253.33398980693138\n",
            "Iteration 40 MSE : 253.33398980693138\n",
            "Iteration 41 evaluation : 324.9266261622358\n",
            "Iteration 41 MSE : 324.9266261622358\n",
            "Iteration 42 evaluation : 354.36247337366\n",
            "Iteration 42 MSE : 354.36247337366\n",
            "Iteration 43 evaluation : 396.41101311248485\n",
            "Iteration 43 MSE : 396.41101311248485\n",
            "Iteration 44 evaluation : 322.58028947651195\n",
            "Iteration 44 MSE : 322.58028947651195\n",
            "Iteration 45 evaluation : 397.32239934927435\n",
            "Iteration 45 MSE : 397.32239934927435\n",
            "Iteration 46 evaluation : 341.33128243356845\n",
            "Iteration 46 MSE : 341.33128243356845\n",
            "Iteration 47 evaluation : 556.895335570894\n",
            "Iteration 47 MSE : 556.895335570894\n",
            "Iteration 48 evaluation : 297.6951773930522\n",
            "Iteration 48 MSE : 297.6951773930522\n",
            "Iteration 49 evaluation : 485.58817901117516\n",
            "Iteration 49 MSE : 485.58817901117516\n",
            "Iteration 50 evaluation : 482.39060465494794\n",
            "Iteration 50 MSE : 482.39060465494794\n"
          ],
          "name": "stdout"
        }
      ]
    },
    {
      "cell_type": "code",
      "metadata": {
        "id": "gKJElffQifQS",
        "colab_type": "code",
        "colab": {
          "base_uri": "https://localhost:8080/",
          "height": 50
        },
        "outputId": "a2f163b3-f972-464b-d48f-e322a36b15f4"
      },
      "source": [
        "MSE = np.array(MSE)\n",
        "\n",
        "mean_stepB = MSE.mean()\n",
        "std_stepB = MSE.std()\n",
        "print(mean_stepB)\n",
        "print(std_stepB)"
      ],
      "execution_count": 23,
      "outputs": [
        {
          "output_type": "stream",
          "text": [
            "343.36536222715586\n",
            "82.66475866614807\n"
          ],
          "name": "stdout"
        }
      ]
    },
    {
      "cell_type": "markdown",
      "metadata": {
        "id": "61e2iDvkmgLL",
        "colab_type": "text"
      },
      "source": [
        "### Comparison of step A and B :  \n",
        "For step A, we had :  \n",
        "- Mean = 336.1609105416868\n",
        "- Standard deviation = 397.909409251028\n",
        "\n",
        "And for step B :\n",
        "- Mean = 343.36536222715586\n",
        "- Standard deviation = 82.66475866614807\n",
        "\n",
        "**The MSE is almost the same as before**"
      ]
    },
    {
      "cell_type": "markdown",
      "metadata": {
        "id": "eocXd-gDnq9U",
        "colab_type": "text"
      },
      "source": [
        "## Part C\n",
        "\n",
        "C. Increate the number of epochs (5 marks)\n",
        "\n",
        "Repeat Part B but use 100 epochs this time for training.\n",
        "\n",
        "How does the mean of the mean squared errors compare to that from Step B?"
      ]
    },
    {
      "cell_type": "code",
      "metadata": {
        "id": "i1S888Zjj0uj",
        "colab_type": "code",
        "colab": {
          "base_uri": "https://localhost:8080/",
          "height": 1000
        },
        "outputId": "e4fc0c6f-d6bc-478b-f389-142066ece3e2"
      },
      "source": [
        "MSE = []\n",
        "\n",
        "for i in range(50):\n",
        "    X_train, X_test, y_train, y_test = train_test_split(X_norm, y, test_size = 0.30, random_state = 1)\n",
        "    n_cols = X_train.shape[1]\n",
        "    model = Sequential()\n",
        "    model.add(Dense(10, activation = 'relu', input_shape = (n_cols,)))\n",
        "    model.add(Dense(1))\n",
        "\n",
        "    # compile model\n",
        "    model.compile(optimizer = 'adam', loss = 'mean_squared_error')\n",
        "    model.fit(X_train, y_train, validation_data = (X_test, y_test), epochs = 100, verbose = 0)\n",
        "    \n",
        "    scores = model.evaluate(X_test, y_test, verbose = 0)\n",
        "    print('Iteration {} evaluation : {}'.format(i + 1, scores))\n",
        "    \n",
        "    pred = model.predict(X_norm)\n",
        "    mse = mean_squared_error(y, pred)\n",
        "    print('Iteration {} MSE : {}'.format(i + 1, scores))\n",
        "    MSE.append(mse)"
      ],
      "execution_count": 26,
      "outputs": [
        {
          "output_type": "stream",
          "text": [
            "Iteration 1 evaluation : 177.3231744858825\n",
            "Iteration 1 MSE : 177.3231744858825\n",
            "Iteration 2 evaluation : 186.71338379498823\n",
            "Iteration 2 MSE : 186.71338379498823\n",
            "Iteration 3 evaluation : 171.86973319933253\n",
            "Iteration 3 MSE : 171.86973319933253\n",
            "Iteration 4 evaluation : 195.73187581775258\n",
            "Iteration 4 MSE : 195.73187581775258\n",
            "Iteration 5 evaluation : 203.2391630993692\n",
            "Iteration 5 MSE : 203.2391630993692\n",
            "Iteration 6 evaluation : 184.40308081370728\n",
            "Iteration 6 MSE : 184.40308081370728\n",
            "Iteration 7 evaluation : 185.4972838861657\n",
            "Iteration 7 MSE : 185.4972838861657\n",
            "Iteration 8 evaluation : 180.7276218253818\n",
            "Iteration 8 MSE : 180.7276218253818\n",
            "Iteration 9 evaluation : 222.27923623489332\n",
            "Iteration 9 MSE : 222.27923623489332\n",
            "Iteration 10 evaluation : 199.62125809061487\n",
            "Iteration 10 MSE : 199.62125809061487\n",
            "Iteration 11 evaluation : 212.0272833074181\n",
            "Iteration 11 MSE : 212.0272833074181\n",
            "Iteration 12 evaluation : 178.69214736296522\n",
            "Iteration 12 MSE : 178.69214736296522\n",
            "Iteration 13 evaluation : 183.04944864908853\n",
            "Iteration 13 MSE : 183.04944864908853\n",
            "Iteration 14 evaluation : 181.93482097144266\n",
            "Iteration 14 MSE : 181.93482097144266\n",
            "Iteration 15 evaluation : 169.3816260180427\n",
            "Iteration 15 MSE : 169.3816260180427\n",
            "Iteration 16 evaluation : 199.55357592931458\n",
            "Iteration 16 MSE : 199.55357592931458\n",
            "Iteration 17 evaluation : 186.6688028971354\n",
            "Iteration 17 MSE : 186.6688028971354\n",
            "Iteration 18 evaluation : 183.86185867655237\n",
            "Iteration 18 MSE : 183.86185867655237\n",
            "Iteration 19 evaluation : 205.24385460912217\n",
            "Iteration 19 MSE : 205.24385460912217\n",
            "Iteration 20 evaluation : 184.0591637077455\n",
            "Iteration 20 MSE : 184.0591637077455\n",
            "Iteration 21 evaluation : 168.75216324198206\n",
            "Iteration 21 MSE : 168.75216324198206\n",
            "Iteration 22 evaluation : 190.72737709218245\n",
            "Iteration 22 MSE : 190.72737709218245\n",
            "Iteration 23 evaluation : 179.83467768696906\n",
            "Iteration 23 MSE : 179.83467768696906\n",
            "Iteration 24 evaluation : 174.38494211338872\n",
            "Iteration 24 MSE : 174.38494211338872\n",
            "Iteration 25 evaluation : 194.43863408851007\n",
            "Iteration 25 MSE : 194.43863408851007\n",
            "Iteration 26 evaluation : 168.36143671424642\n",
            "Iteration 26 MSE : 168.36143671424642\n",
            "Iteration 27 evaluation : 187.15382913632686\n",
            "Iteration 27 MSE : 187.15382913632686\n",
            "Iteration 28 evaluation : 181.15995378710306\n",
            "Iteration 28 MSE : 181.15995378710306\n",
            "Iteration 29 evaluation : 185.61685052272958\n",
            "Iteration 29 MSE : 185.61685052272958\n",
            "Iteration 30 evaluation : 206.8740937563208\n",
            "Iteration 30 MSE : 206.8740937563208\n",
            "Iteration 31 evaluation : 179.96972276014804\n",
            "Iteration 31 MSE : 179.96972276014804\n",
            "Iteration 32 evaluation : 181.13192586065497\n",
            "Iteration 32 MSE : 181.13192586065497\n",
            "Iteration 33 evaluation : 195.9117002024234\n",
            "Iteration 33 MSE : 195.9117002024234\n",
            "Iteration 34 evaluation : 171.7616396907078\n",
            "Iteration 34 MSE : 171.7616396907078\n",
            "Iteration 35 evaluation : 181.55226352531162\n",
            "Iteration 35 MSE : 181.55226352531162\n",
            "Iteration 36 evaluation : 164.72603175092283\n",
            "Iteration 36 MSE : 164.72603175092283\n",
            "Iteration 37 evaluation : 217.60150531657692\n",
            "Iteration 37 MSE : 217.60150531657692\n",
            "Iteration 38 evaluation : 188.04759275566028\n",
            "Iteration 38 MSE : 188.04759275566028\n",
            "Iteration 39 evaluation : 178.63596855089503\n",
            "Iteration 39 MSE : 178.63596855089503\n",
            "Iteration 40 evaluation : 167.19535393082208\n",
            "Iteration 40 MSE : 167.19535393082208\n",
            "Iteration 41 evaluation : 193.59957441311437\n",
            "Iteration 41 MSE : 193.59957441311437\n",
            "Iteration 42 evaluation : 202.75619279682442\n",
            "Iteration 42 MSE : 202.75619279682442\n",
            "Iteration 43 evaluation : 165.24846360289934\n",
            "Iteration 43 MSE : 165.24846360289934\n",
            "Iteration 44 evaluation : 200.25975308217662\n",
            "Iteration 44 MSE : 200.25975308217662\n",
            "Iteration 45 evaluation : 264.0707833003072\n",
            "Iteration 45 MSE : 264.0707833003072\n",
            "Iteration 46 evaluation : 180.4498219906705\n",
            "Iteration 46 MSE : 180.4498219906705\n",
            "Iteration 47 evaluation : 174.31835019009785\n",
            "Iteration 47 MSE : 174.31835019009785\n",
            "Iteration 48 evaluation : 184.88631086133444\n",
            "Iteration 48 MSE : 184.88631086133444\n",
            "Iteration 49 evaluation : 201.23402962792653\n",
            "Iteration 49 MSE : 201.23402962792653\n",
            "Iteration 50 evaluation : 204.55966097637287\n",
            "Iteration 50 MSE : 204.55966097637287\n"
          ],
          "name": "stdout"
        }
      ]
    },
    {
      "cell_type": "code",
      "metadata": {
        "id": "vX0Xx-v2oA0F",
        "colab_type": "code",
        "colab": {
          "base_uri": "https://localhost:8080/",
          "height": 50
        },
        "outputId": "0649815f-989d-44a1-e098-746f0f2da732"
      },
      "source": [
        "MSE = np.array(MSE)\n",
        "\n",
        "mean_stepC = MSE.mean()\n",
        "std_stepC = MSE.std()\n",
        "print(mean_stepC)\n",
        "print(std_stepC)"
      ],
      "execution_count": 27,
      "outputs": [
        {
          "output_type": "stream",
          "text": [
            "164.06538841617134\n",
            "16.388811252309374\n"
          ],
          "name": "stdout"
        }
      ]
    },
    {
      "cell_type": "markdown",
      "metadata": {
        "id": "z9IjZ-osoNbm",
        "colab_type": "text"
      },
      "source": [
        "### Comparison of step B and C :  \n",
        "For step B, we had :  \n",
        "- Mean = 343.36536222715586\n",
        "- Standard deviation = 82.66475866614807\n",
        "\n",
        "And for step C :\n",
        "- Mean = 164.06538841617134\n",
        "- Standard deviation = 16.388811252309374\n",
        "\n",
        "**The MSE is almost 1/2 of before, meaning that the model is better**"
      ]
    },
    {
      "cell_type": "markdown",
      "metadata": {
        "id": "D8t--0RQohC9",
        "colab_type": "text"
      },
      "source": [
        "## Part D\n",
        "\n",
        "D. Increase the number of hidden layers (5 marks)\n",
        "\n",
        "Repeat part B but use a neural network with the following instead:\n",
        "\n",
        "- Three hidden layers, each of 10 nodes and ReLU activation function.\n",
        "\n",
        "How does the mean of the mean squared errors compare to that from Step B?"
      ]
    },
    {
      "cell_type": "code",
      "metadata": {
        "id": "8RAGjKi6oZpC",
        "colab_type": "code",
        "colab": {
          "base_uri": "https://localhost:8080/",
          "height": 1000
        },
        "outputId": "c7b21d99-8184-4520-ddf9-6a328059dbf9"
      },
      "source": [
        "MSE = []\n",
        "\n",
        "for i in range(50):\n",
        "    X_train, X_test, y_train, y_test = train_test_split(X_norm, y, test_size = 0.30, random_state = 1)\n",
        "    n_cols = X_train.shape[1]\n",
        "    model = Sequential()\n",
        "    model.add(Dense(10, activation = 'relu', input_shape = (n_cols,)))\n",
        "    model.add(Dense(10, activation = 'relu'))\n",
        "    model.add(Dense(10, activation = 'relu'))\n",
        "    model.add(Dense(1))\n",
        "\n",
        "    # compile model\n",
        "    model.compile(optimizer = 'adam', loss = 'mean_squared_error')\n",
        "    model.fit(X_train, y_train, validation_data = (X_test, y_test), epochs = 50, verbose = 0)\n",
        "    \n",
        "    scores = model.evaluate(X_test, y_test, verbose = 0)\n",
        "    print('Iteration {} evaluation : {}'.format(i + 1, scores))\n",
        "    \n",
        "    pred = model.predict(X_norm)\n",
        "    mse = mean_squared_error(y, pred)\n",
        "    print('Iteration {} MSE : {}'.format(i + 1, scores))\n",
        "    MSE.append(mse)"
      ],
      "execution_count": 28,
      "outputs": [
        {
          "output_type": "stream",
          "text": [
            "Iteration 1 evaluation : 151.27031186792073\n",
            "Iteration 1 MSE : 151.27031186792073\n",
            "Iteration 2 evaluation : 145.29680586632787\n",
            "Iteration 2 MSE : 145.29680586632787\n",
            "Iteration 3 evaluation : 140.9290121627857\n",
            "Iteration 3 MSE : 140.9290121627857\n",
            "Iteration 4 evaluation : 154.9971687292204\n",
            "Iteration 4 MSE : 154.9971687292204\n",
            "Iteration 5 evaluation : 140.83912135250745\n",
            "Iteration 5 MSE : 140.83912135250745\n",
            "Iteration 6 evaluation : 139.35664856549604\n",
            "Iteration 6 MSE : 139.35664856549604\n",
            "Iteration 7 evaluation : 145.2827419540257\n",
            "Iteration 7 MSE : 145.2827419540257\n",
            "Iteration 8 evaluation : 144.58277809118377\n",
            "Iteration 8 MSE : 144.58277809118377\n",
            "Iteration 9 evaluation : 128.82948436551882\n",
            "Iteration 9 MSE : 128.82948436551882\n",
            "Iteration 10 evaluation : 156.77977597134785\n",
            "Iteration 10 MSE : 156.77977597134785\n",
            "Iteration 11 evaluation : 155.3609023603421\n",
            "Iteration 11 MSE : 155.3609023603421\n",
            "Iteration 12 evaluation : 153.18323771158853\n",
            "Iteration 12 MSE : 153.18323771158853\n",
            "Iteration 13 evaluation : 144.8873052998268\n",
            "Iteration 13 MSE : 144.8873052998268\n",
            "Iteration 14 evaluation : 106.35804528788842\n",
            "Iteration 14 MSE : 106.35804528788842\n",
            "Iteration 15 evaluation : 124.96001742958637\n",
            "Iteration 15 MSE : 124.96001742958637\n",
            "Iteration 16 evaluation : 164.20757459128174\n",
            "Iteration 16 MSE : 164.20757459128174\n",
            "Iteration 17 evaluation : 153.81572582652268\n",
            "Iteration 17 MSE : 153.81572582652268\n",
            "Iteration 18 evaluation : 155.148957286452\n",
            "Iteration 18 MSE : 155.148957286452\n",
            "Iteration 19 evaluation : 145.39060806225032\n",
            "Iteration 19 MSE : 145.39060806225032\n",
            "Iteration 20 evaluation : 141.00600840744463\n",
            "Iteration 20 MSE : 141.00600840744463\n",
            "Iteration 21 evaluation : 144.41315117005777\n",
            "Iteration 21 MSE : 144.41315117005777\n",
            "Iteration 22 evaluation : 140.8143935712796\n",
            "Iteration 22 MSE : 140.8143935712796\n",
            "Iteration 23 evaluation : 162.59640794278735\n",
            "Iteration 23 MSE : 162.59640794278735\n",
            "Iteration 24 evaluation : 150.34751348896705\n",
            "Iteration 24 MSE : 150.34751348896705\n",
            "Iteration 25 evaluation : 97.50418443895852\n",
            "Iteration 25 MSE : 97.50418443895852\n",
            "Iteration 26 evaluation : 157.04668216643597\n",
            "Iteration 26 MSE : 157.04668216643597\n",
            "Iteration 27 evaluation : 103.41743772932627\n",
            "Iteration 27 MSE : 103.41743772932627\n",
            "Iteration 28 evaluation : 164.6702617657609\n",
            "Iteration 28 MSE : 164.6702617657609\n",
            "Iteration 29 evaluation : 155.8012509145397\n",
            "Iteration 29 MSE : 155.8012509145397\n",
            "Iteration 30 evaluation : 151.54697889803296\n",
            "Iteration 30 MSE : 151.54697889803296\n",
            "Iteration 31 evaluation : 149.1048576083384\n",
            "Iteration 31 MSE : 149.1048576083384\n",
            "Iteration 32 evaluation : 156.71925818187134\n",
            "Iteration 32 MSE : 156.71925818187134\n",
            "Iteration 33 evaluation : 113.48974530365089\n",
            "Iteration 33 MSE : 113.48974530365089\n",
            "Iteration 34 evaluation : 145.6441376818808\n",
            "Iteration 34 MSE : 145.6441376818808\n",
            "Iteration 35 evaluation : 151.36452017478572\n",
            "Iteration 35 MSE : 151.36452017478572\n",
            "Iteration 36 evaluation : 154.95059253482756\n",
            "Iteration 36 MSE : 154.95059253482756\n",
            "Iteration 37 evaluation : 160.19308861791123\n",
            "Iteration 37 MSE : 160.19308861791123\n",
            "Iteration 38 evaluation : 127.56589787060389\n",
            "Iteration 38 MSE : 127.56589787060389\n",
            "Iteration 39 evaluation : 146.2392367761112\n",
            "Iteration 39 MSE : 146.2392367761112\n",
            "Iteration 40 evaluation : 139.11237080891928\n",
            "Iteration 40 MSE : 139.11237080891928\n",
            "Iteration 41 evaluation : 144.58197633811184\n",
            "Iteration 41 MSE : 144.58197633811184\n",
            "Iteration 42 evaluation : 161.82919311523438\n",
            "Iteration 42 MSE : 161.82919311523438\n",
            "Iteration 43 evaluation : 158.57493250578352\n",
            "Iteration 43 MSE : 158.57493250578352\n",
            "Iteration 44 evaluation : 150.53493645430382\n",
            "Iteration 44 MSE : 150.53493645430382\n",
            "Iteration 45 evaluation : 151.35287910140448\n",
            "Iteration 45 MSE : 151.35287910140448\n",
            "Iteration 46 evaluation : 158.2991635220722\n",
            "Iteration 46 MSE : 158.2991635220722\n",
            "Iteration 47 evaluation : 156.42035361478244\n",
            "Iteration 47 MSE : 156.42035361478244\n",
            "Iteration 48 evaluation : 155.29422337800554\n",
            "Iteration 48 MSE : 155.29422337800554\n",
            "Iteration 49 evaluation : 127.3846725414486\n",
            "Iteration 49 MSE : 127.3846725414486\n",
            "Iteration 50 evaluation : 145.40709017164113\n",
            "Iteration 50 MSE : 145.40709017164113\n"
          ],
          "name": "stdout"
        }
      ]
    },
    {
      "cell_type": "code",
      "metadata": {
        "id": "cfsrSd6ro-DK",
        "colab_type": "code",
        "colab": {
          "base_uri": "https://localhost:8080/",
          "height": 50
        },
        "outputId": "446bca3d-e3e4-4a58-a8f6-aea0902ad042"
      },
      "source": [
        "MSE = np.array(MSE)\n",
        "\n",
        "mean_stepD = MSE.mean()\n",
        "std_stepD = MSE.std()\n",
        "print(mean_stepD)\n",
        "print(std_stepD)"
      ],
      "execution_count": 29,
      "outputs": [
        {
          "output_type": "stream",
          "text": [
            "124.26739708633573\n",
            "13.61897444955887\n"
          ],
          "name": "stdout"
        }
      ]
    },
    {
      "cell_type": "markdown",
      "metadata": {
        "id": "EUv4hIAZpA21",
        "colab_type": "text"
      },
      "source": [
        "### Comparison of step B and D :  \n",
        "For step B, we had :  \n",
        "- Mean = 343.36536222715586\n",
        "- Standard deviation = 82.66475866614807\n",
        "\n",
        "And for step D :\n",
        "- Mean = 124.26739708633573\n",
        "- Standard deviation = 13.61897444955887\n",
        "\n",
        "**The MSE is lower than step B**"
      ]
    },
    {
      "cell_type": "code",
      "metadata": {
        "id": "49U0TOuFpFZi",
        "colab_type": "code",
        "colab": {}
      },
      "source": [
        ""
      ],
      "execution_count": 0,
      "outputs": []
    }
  ]
}